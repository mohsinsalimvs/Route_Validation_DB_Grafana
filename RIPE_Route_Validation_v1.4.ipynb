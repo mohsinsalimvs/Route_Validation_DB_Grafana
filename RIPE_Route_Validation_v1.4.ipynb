{
 "cells": [
  {
   "cell_type": "code",
   "execution_count": null,
   "metadata": {
    "vscode": {
     "languageId": "plaintext"
    }
   },
   "outputs": [],
   "source": [
    "{\n",
    " \"cells\": [\n",
    "  {\n",
    "   \"cell_type\": \"markdown\",\n",
    "   \"metadata\": {},\n",
    "   \"source\": [\n",
    "    \"# BGP Route Validation Runner\\n\",\n",
    "    \"This notebook downloads and runs the BGP validation code\"\n",
    "   ]\n",
    "  },\n",
    "  {\n",
    "   \"cell_type\": \"code\",\n",
    "   \"execution_count\": null,\n",
    "   \"metadata\": {},\n",
    "   \"source\": [\n",
    "    \"# Install required packages\\n\",\n",
    "    \"!pip install pytz\\n\",\n",
    "    \"\\n\",\n",
    "    \"# Download the Python script from GitHub\\n\",\n",
    "    \"!wget https://raw.githubusercontent.com/mohsinsalimvs/Route_Validation_DB_Grafana/main/RIPE_Route_Validation_v1.4.py\"\n",
    "   ]\n",
    "  },\n",
    "  {\n",
    "   \"cell_type\": \"code\",\n",
    "   \"execution_count\": null,\n",
    "   \"metadata\": {},\n",
    "   \"source\": [\n",
    "    \"# Run the analysis\\n\",\n",
    "    \"!python RIPE_Route_Validation_v1.4.py\"\n",
    "   ]\n",
    "  }\n",
    " ]\n",
    "}"
   ]
  }
 ],
 "metadata": {
  "language_info": {
   "name": "python"
  }
 },
 "nbformat": 4,
 "nbformat_minor": 2
}
